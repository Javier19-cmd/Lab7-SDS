{
 "cells": [
  {
   "cell_type": "code",
   "execution_count": null,
   "id": "242a1ea3",
   "metadata": {},
   "outputs": [],
   "source": [
    "import numpy as np\n",
    "import matplotlib.pyplot as plt\n",
    "from keras.preprocessing.image import ImageDataGenerator"
   ]
  },
  {
   "cell_type": "code",
   "execution_count": null,
   "id": "9abb1b9e",
   "metadata": {},
   "outputs": [],
   "source": [
    "path = '/Users/MyUser/Downloads/malimg_paper_dataset_imgs/'"
   ]
  },
  {
   "cell_type": "code",
   "execution_count": null,
   "id": "6db7f53c",
   "metadata": {},
   "outputs": [],
   "source": [
    "familias = ImageDataGenerator().flow_from_directory(directory=path, target_size=(64,64), batch_size=10000)"
   ]
  },
  {
   "cell_type": "code",
   "execution_count": null,
   "id": "546b4119",
   "metadata": {},
   "outputs": [],
   "source": [
    "familias.class_indices"
   ]
  },
  {
   "cell_type": "code",
   "execution_count": null,
   "id": "221f18f8",
   "metadata": {},
   "outputs": [],
   "source": [
    "imgs, labels = next(familias)"
   ]
  },
  {
   "cell_type": "code",
   "execution_count": null,
   "id": "90094adf",
   "metadata": {},
   "outputs": [],
   "source": [
    "imgs.shape"
   ]
  },
  {
   "cell_type": "code",
   "execution_count": null,
   "id": "795650de",
   "metadata": {},
   "outputs": [],
   "source": [
    "labels.shape"
   ]
  },
  {
   "cell_type": "code",
   "execution_count": null,
   "id": "4837c367",
   "metadata": {},
   "outputs": [],
   "source": [
    "# plots images with labels within jupyter notebook\n",
    "def plots(ims, figsize=(20,30), rows=10, interp=False, titles=None):\n",
    "    if type(ims[0]) is np.ndarray:\n",
    "        ims = np.array(ims).astype(np.uint8)\n",
    "        if (ims.shape[-1] != 3):\n",
    "            ims = ims.transpose((0,2,3,1))\n",
    "    f = plt.figure(figsize=figsize)\n",
    "    cols = 10 # len(ims)//rows if len(ims) % 2 == 0 else len(ims)//rows + 1\n",
    "    for i in range(0,50):\n",
    "        sp = f.add_subplot(rows, cols, i+1)\n",
    "        sp.axis('Off')\n",
    "        if titles is not None:\n",
    "            sp.set_title(list(familias.class_indices.keys())[np.argmax(titles[i])], fontsize=16)\n",
    "        plt.imshow(ims[i], interpolation=None if interp else 'none')"
   ]
  },
  {
   "cell_type": "code",
   "execution_count": null,
   "id": "3263a4a8",
   "metadata": {},
   "outputs": [],
   "source": [
    "\n",
    "plots(imgs, titles = labels)"
   ]
  },
  {
   "cell_type": "code",
   "execution_count": null,
   "id": "d5fed806",
   "metadata": {},
   "outputs": [],
   "source": [
    "#TODO\n",
    "#Desarrollo de una red neuronal"
   ]
  }
 ],
 "metadata": {
  "kernelspec": {
   "display_name": "Python 3 (ipykernel)",
   "language": "python",
   "name": "python3"
  },
  "language_info": {
   "codemirror_mode": {
    "name": "ipython",
    "version": 3
   },
   "file_extension": ".py",
   "mimetype": "text/x-python",
   "name": "python",
   "nbconvert_exporter": "python",
   "pygments_lexer": "ipython3",
   "version": "3.11.3"
  }
 },
 "nbformat": 4,
 "nbformat_minor": 5
}
